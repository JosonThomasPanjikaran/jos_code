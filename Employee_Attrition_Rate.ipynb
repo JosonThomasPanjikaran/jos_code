{
 "cells": [
  {
   "cell_type": "code",
   "execution_count": 1,
   "metadata": {},
   "outputs": [],
   "source": [
    "import pandas as pd\n",
    "import numpy as np\n",
    "from matplotlib import pyplot as plt\n",
    "from pandas.plotting import scatter_matrix"
   ]
  },
  {
   "cell_type": "code",
   "execution_count": 2,
   "metadata": {},
   "outputs": [],
   "source": [
    "# Changing working Directory\n",
    "import os\n",
    "os.chdir('D:\\\\J0$0Ns DataSets\\\\Employee Attrition_Prediction\\\\Dataset')"
   ]
  },
  {
   "cell_type": "code",
   "execution_count": 3,
   "metadata": {},
   "outputs": [],
   "source": [
    "train_df=pd.read_csv('Train.csv')\n",
    "test_df=pd.read_csv('Test.csv')"
   ]
  },
  {
   "cell_type": "code",
   "execution_count": 4,
   "metadata": {},
   "outputs": [
    {
     "data": {
      "text/plain": [
       "Employee_ID                    0\n",
       "Gender                         0\n",
       "Age                          412\n",
       "Education_Level                0\n",
       "Relationship_Status            0\n",
       "Hometown                       0\n",
       "Unit                           0\n",
       "Decision_skill_possess         0\n",
       "Time_of_service              144\n",
       "Time_since_promotion           0\n",
       "growth_rate                    0\n",
       "Travel_Rate                    0\n",
       "Post_Level                     0\n",
       "Pay_Scale                      9\n",
       "Compensation_and_Benefits      0\n",
       "Work_Life_balance             11\n",
       "VAR1                           0\n",
       "VAR2                         577\n",
       "VAR3                           0\n",
       "VAR4                         656\n",
       "VAR5                           0\n",
       "VAR6                           0\n",
       "VAR7                           0\n",
       "Attrition_rate                 0\n",
       "dtype: int64"
      ]
     },
     "execution_count": 4,
     "metadata": {},
     "output_type": "execute_result"
    }
   ],
   "source": [
    "train_df.isnull().sum()"
   ]
  },
  {
   "cell_type": "code",
   "execution_count": 5,
   "metadata": {},
   "outputs": [
    {
     "data": {
      "text/plain": [
       "Employee_ID                    0\n",
       "Gender                         0\n",
       "Age                          161\n",
       "Education_Level                0\n",
       "Relationship_Status            0\n",
       "Hometown                       0\n",
       "Unit                           0\n",
       "Decision_skill_possess         0\n",
       "Time_of_service               52\n",
       "Time_since_promotion           0\n",
       "growth_rate                    0\n",
       "Travel_Rate                    0\n",
       "Post_Level                     0\n",
       "Pay_Scale                      3\n",
       "Compensation_and_Benefits      0\n",
       "Work_Life_balance              5\n",
       "VAR1                           0\n",
       "VAR2                         217\n",
       "VAR3                           0\n",
       "VAR4                         298\n",
       "VAR5                           0\n",
       "VAR6                           0\n",
       "VAR7                           0\n",
       "dtype: int64"
      ]
     },
     "execution_count": 5,
     "metadata": {},
     "output_type": "execute_result"
    }
   ],
   "source": [
    "test_df.isnull().sum()"
   ]
  },
  {
   "cell_type": "markdown",
   "metadata": {},
   "source": [
    "## Null Values present in following 6 Features:\n",
    " [Age, Time_of_service, Pay_Scale, Work_Life_balance, VAR2, VAR4]"
   ]
  },
  {
   "cell_type": "code",
   "execution_count": 6,
   "metadata": {},
   "outputs": [],
   "source": [
    "# for Displaying all Columns\n",
    "# This will make it easier to see & Understand Data.\n",
    "pd.set_option('display.max_columns', None)"
   ]
  },
  {
   "cell_type": "markdown",
   "metadata": {},
   "source": [
    "# ------------------------------------------"
   ]
  },
  {
   "cell_type": "markdown",
   "metadata": {},
   "source": [
    "# ------------------------------------------"
   ]
  },
  {
   "cell_type": "markdown",
   "metadata": {},
   "source": [
    "# Converting Compensation_and_Benifits into numeric column"
   ]
  },
  {
   "cell_type": "code",
   "execution_count": 7,
   "metadata": {},
   "outputs": [
    {
     "data": {
      "text/plain": [
       "array(['type2', 'type3', 'type0', 'type4', 'type1'], dtype=object)"
      ]
     },
     "execution_count": 7,
     "metadata": {},
     "output_type": "execute_result"
    }
   ],
   "source": [
    "test_df.Compensation_and_Benefits.unique()"
   ]
  },
  {
   "cell_type": "code",
   "execution_count": 8,
   "metadata": {},
   "outputs": [],
   "source": [
    "# Changing Compensation_and_Benifits to numerical values in training data\n",
    "train_df['Compensation_and_Benefits']=train_df['Compensation_and_Benefits'].apply(lambda x: 0 if x=='type0' else x)\n",
    "train_df['Compensation_and_Benefits']=train_df['Compensation_and_Benefits'].apply(lambda x: 1 if x=='type1' else x)\n",
    "train_df['Compensation_and_Benefits']=train_df['Compensation_and_Benefits'].apply(lambda x: 2 if x=='type2' else x)\n",
    "train_df['Compensation_and_Benefits']=train_df['Compensation_and_Benefits'].apply(lambda x: 3 if x=='type3' else x)\n",
    "train_df['Compensation_and_Benefits']=train_df['Compensation_and_Benefits'].apply(lambda x: 4 if x=='type4' else x)"
   ]
  },
  {
   "cell_type": "code",
   "execution_count": 9,
   "metadata": {},
   "outputs": [],
   "source": [
    "# Changing Compensation_and_Benifits to numerical values in test data\n",
    "test_df['Compensation_and_Benefits']=test_df['Compensation_and_Benefits'].apply(lambda x: 0 if x=='type0' else x)\n",
    "test_df['Compensation_and_Benefits']=test_df['Compensation_and_Benefits'].apply(lambda x: 1 if x=='type1' else x)\n",
    "test_df['Compensation_and_Benefits']=test_df['Compensation_and_Benefits'].apply(lambda x: 2 if x=='type2' else x)\n",
    "test_df['Compensation_and_Benefits']=test_df['Compensation_and_Benefits'].apply(lambda x: 3 if x=='type3' else x)\n",
    "test_df['Compensation_and_Benefits']=test_df['Compensation_and_Benefits'].apply(lambda x: 4 if x=='type4' else x)"
   ]
  },
  {
   "cell_type": "markdown",
   "metadata": {},
   "source": [
    "# ------------------------------------"
   ]
  },
  {
   "cell_type": "markdown",
   "metadata": {},
   "source": [
    "# ------------------------------------"
   ]
  },
  {
   "cell_type": "markdown",
   "metadata": {},
   "source": [
    "# Converting Relationship Status to Numerical"
   ]
  },
  {
   "cell_type": "code",
   "execution_count": 10,
   "metadata": {},
   "outputs": [
    {
     "data": {
      "text/plain": [
       "array(['Single', 'Married'], dtype=object)"
      ]
     },
     "execution_count": 10,
     "metadata": {},
     "output_type": "execute_result"
    }
   ],
   "source": [
    "# There is only 2 uniques in Relationship status\n",
    "test_df.Relationship_Status.unique()"
   ]
  },
  {
   "cell_type": "code",
   "execution_count": 11,
   "metadata": {},
   "outputs": [],
   "source": [
    "# Lets Create a new Column called Married where it will be 1 if married and 0 if single\n",
    "train_df['Married']=train_df['Relationship_Status'].apply(lambda x: 1 if x=='Married' else 0)\n",
    "test_df['Married']=test_df['Relationship_Status'].apply(lambda x: 1 if x=='Married' else 0)"
   ]
  },
  {
   "cell_type": "code",
   "execution_count": 12,
   "metadata": {},
   "outputs": [],
   "source": [
    "# Since we created a new column, we dont need Relationship_Status as it will cause multicoliniarity. So lets drop it.\n",
    "\n",
    "train_df.drop('Relationship_Status',axis=1,inplace=True)\n",
    "test_df.drop('Relationship_Status',axis=1,inplace=True)"
   ]
  },
  {
   "cell_type": "markdown",
   "metadata": {},
   "source": [
    "# -----------------------------------"
   ]
  },
  {
   "cell_type": "markdown",
   "metadata": {},
   "source": [
    "# -----------------------------------"
   ]
  },
  {
   "cell_type": "markdown",
   "metadata": {},
   "source": [
    "# Converting Gender to Numeric Column"
   ]
  },
  {
   "cell_type": "code",
   "execution_count": 13,
   "metadata": {},
   "outputs": [
    {
     "data": {
      "text/plain": [
       "array(['F', 'M'], dtype=object)"
      ]
     },
     "execution_count": 13,
     "metadata": {},
     "output_type": "execute_result"
    }
   ],
   "source": [
    "test_df.Gender.unique()"
   ]
  },
  {
   "cell_type": "code",
   "execution_count": 14,
   "metadata": {},
   "outputs": [],
   "source": [
    "# Converting the column to Binary values\n",
    "train_df['Gender']=train_df['Gender'].apply(lambda x: 1 if x=='M' else 0)\n",
    "test_df['Gender']=test_df['Gender'].apply(lambda x: 1 if x=='M' else 0)"
   ]
  },
  {
   "cell_type": "markdown",
   "metadata": {},
   "source": [
    "# -----------------------------------"
   ]
  },
  {
   "cell_type": "markdown",
   "metadata": {},
   "source": [
    "# -----------------------------------"
   ]
  },
  {
   "cell_type": "markdown",
   "metadata": {},
   "source": [
    "# Let us begin with Missing Value Imputation"
   ]
  },
  {
   "cell_type": "markdown",
   "metadata": {},
   "source": [
    "Let us do Age column last.. as it has more missing values\n",
    "\n",
    "Other Missing values are:\n",
    "1. Time of Service [44 Unique Values]\n",
    "2. Pay Scale [10 Unique Values]\n",
    "3. Work Life Balance [5 Unique Values]\n",
    "4. Var 2 [5 Unique Values]\n",
    "5. Var 4 [3 Unique Values]"
   ]
  },
  {
   "cell_type": "code",
   "execution_count": 15,
   "metadata": {},
   "outputs": [],
   "source": [
    "# Lets make all column names lower case\n",
    "\"\"\"So that we can access all the columns easily\"\"\"\n",
    "train_df.columns = [i.lower() for i in train_df.columns]\n",
    "test_df.columns  = [i.lower() for i in test_df.columns]"
   ]
  },
  {
   "cell_type": "markdown",
   "metadata": {},
   "source": [
    "# Lets Start working on Work life balance\n",
    "Because it has less Unique values and very few null values"
   ]
  },
  {
   "cell_type": "markdown",
   "metadata": {},
   "source": [
    "# After a lot of Permutation combination we find that best choice to replace nan values of Work_life balance is 3"
   ]
  },
  {
   "cell_type": "code",
   "execution_count": 16,
   "metadata": {},
   "outputs": [],
   "source": [
    "# Missing value Imputation of work_life_balance\n",
    "\n",
    "train_df['work_life_balance'].fillna(3, inplace=True)\n",
    "test_df['work_life_balance'].fillna(3, inplace=True)"
   ]
  },
  {
   "cell_type": "markdown",
   "metadata": {},
   "source": [
    "# -------------------------------"
   ]
  },
  {
   "cell_type": "markdown",
   "metadata": {},
   "source": [
    "# -------------------------------"
   ]
  },
  {
   "cell_type": "markdown",
   "metadata": {},
   "source": [
    "# Lets work on Pay_scale missing value imputation next"
   ]
  },
  {
   "cell_type": "code",
   "execution_count": 17,
   "metadata": {
    "scrolled": true
   },
   "outputs": [
    {
     "data": {
      "text/html": [
       "<div>\n",
       "<style scoped>\n",
       "    .dataframe tbody tr th:only-of-type {\n",
       "        vertical-align: middle;\n",
       "    }\n",
       "\n",
       "    .dataframe tbody tr th {\n",
       "        vertical-align: top;\n",
       "    }\n",
       "\n",
       "    .dataframe thead th {\n",
       "        text-align: right;\n",
       "    }\n",
       "</style>\n",
       "<table border=\"1\" class=\"dataframe\">\n",
       "  <thead>\n",
       "    <tr style=\"text-align: right;\">\n",
       "      <th></th>\n",
       "      <th>0</th>\n",
       "    </tr>\n",
       "  </thead>\n",
       "  <tbody>\n",
       "    <tr>\n",
       "      <th>0</th>\n",
       "      <td>gender</td>\n",
       "    </tr>\n",
       "    <tr>\n",
       "      <th>1</th>\n",
       "      <td>age</td>\n",
       "    </tr>\n",
       "    <tr>\n",
       "      <th>2</th>\n",
       "      <td>education_level</td>\n",
       "    </tr>\n",
       "    <tr>\n",
       "      <th>3</th>\n",
       "      <td>time_of_service</td>\n",
       "    </tr>\n",
       "    <tr>\n",
       "      <th>4</th>\n",
       "      <td>time_since_promotion</td>\n",
       "    </tr>\n",
       "    <tr>\n",
       "      <th>5</th>\n",
       "      <td>growth_rate</td>\n",
       "    </tr>\n",
       "    <tr>\n",
       "      <th>6</th>\n",
       "      <td>travel_rate</td>\n",
       "    </tr>\n",
       "    <tr>\n",
       "      <th>7</th>\n",
       "      <td>post_level</td>\n",
       "    </tr>\n",
       "    <tr>\n",
       "      <th>8</th>\n",
       "      <td>pay_scale</td>\n",
       "    </tr>\n",
       "    <tr>\n",
       "      <th>9</th>\n",
       "      <td>compensation_and_benefits</td>\n",
       "    </tr>\n",
       "    <tr>\n",
       "      <th>10</th>\n",
       "      <td>work_life_balance</td>\n",
       "    </tr>\n",
       "    <tr>\n",
       "      <th>11</th>\n",
       "      <td>var1</td>\n",
       "    </tr>\n",
       "    <tr>\n",
       "      <th>12</th>\n",
       "      <td>var2</td>\n",
       "    </tr>\n",
       "    <tr>\n",
       "      <th>13</th>\n",
       "      <td>var3</td>\n",
       "    </tr>\n",
       "    <tr>\n",
       "      <th>14</th>\n",
       "      <td>var4</td>\n",
       "    </tr>\n",
       "    <tr>\n",
       "      <th>15</th>\n",
       "      <td>var5</td>\n",
       "    </tr>\n",
       "    <tr>\n",
       "      <th>16</th>\n",
       "      <td>var6</td>\n",
       "    </tr>\n",
       "    <tr>\n",
       "      <th>17</th>\n",
       "      <td>var7</td>\n",
       "    </tr>\n",
       "    <tr>\n",
       "      <th>18</th>\n",
       "      <td>attrition_rate</td>\n",
       "    </tr>\n",
       "    <tr>\n",
       "      <th>19</th>\n",
       "      <td>married</td>\n",
       "    </tr>\n",
       "  </tbody>\n",
       "</table>\n",
       "</div>"
      ],
      "text/plain": [
       "                            0\n",
       "0                      gender\n",
       "1                         age\n",
       "2             education_level\n",
       "3             time_of_service\n",
       "4        time_since_promotion\n",
       "5                 growth_rate\n",
       "6                 travel_rate\n",
       "7                  post_level\n",
       "8                   pay_scale\n",
       "9   compensation_and_benefits\n",
       "10          work_life_balance\n",
       "11                       var1\n",
       "12                       var2\n",
       "13                       var3\n",
       "14                       var4\n",
       "15                       var5\n",
       "16                       var6\n",
       "17                       var7\n",
       "18             attrition_rate\n",
       "19                    married"
      ]
     },
     "execution_count": 17,
     "metadata": {},
     "output_type": "execute_result"
    }
   ],
   "source": [
    "# Making a series of only numerical Column names so as to make it easy for finding correlations and so on\n",
    "num_col=pd.DataFrame(train_df.columns)\n",
    "num_col=num_col.drop([0,4,5,6])\n",
    "num_col.reset_index(inplace=True)\n",
    "num_col.drop('index',axis=1,inplace=True)\n",
    "num_col"
   ]
  },
  {
   "cell_type": "markdown",
   "metadata": {},
   "source": [
    "# As the mode of pay_scale is 8, lets impute missing value with the same"
   ]
  },
  {
   "cell_type": "code",
   "execution_count": 18,
   "metadata": {},
   "outputs": [],
   "source": [
    "# Missing value Imputation of pay_scale\n",
    "\n",
    "train_df['pay_scale'].fillna(8, inplace=True)\n",
    "test_df['pay_scale'].fillna(8, inplace=True)"
   ]
  },
  {
   "cell_type": "markdown",
   "metadata": {},
   "source": [
    "# --------------------------------"
   ]
  },
  {
   "cell_type": "markdown",
   "metadata": {},
   "source": [
    "# -------------------------------"
   ]
  },
  {
   "cell_type": "markdown",
   "metadata": {},
   "source": [
    "# Lets Start working on missing value imputation of var2 column"
   ]
  },
  {
   "cell_type": "markdown",
   "metadata": {},
   "source": [
    "# As best mode for var2 = 0.7516, let us impute the same for nan values"
   ]
  },
  {
   "cell_type": "code",
   "execution_count": 19,
   "metadata": {},
   "outputs": [],
   "source": [
    "train_df['var2'].fillna(0.7516, inplace=True)\n",
    "test_df['var2'].fillna(0.7516, inplace=True)"
   ]
  },
  {
   "cell_type": "markdown",
   "metadata": {},
   "source": [
    "# ---------------------------------------"
   ]
  },
  {
   "cell_type": "markdown",
   "metadata": {},
   "source": [
    "# ----------------------------------------"
   ]
  },
  {
   "cell_type": "markdown",
   "metadata": {},
   "source": [
    "# Lets Start working on missing value imputation of var4 column"
   ]
  },
  {
   "cell_type": "markdown",
   "metadata": {},
   "source": [
    "# As best mode for var4 = 2, let us impute the same for nan values"
   ]
  },
  {
   "cell_type": "code",
   "execution_count": 20,
   "metadata": {},
   "outputs": [],
   "source": [
    "train_df['var4'].fillna(2, inplace=True)\n",
    "test_df['var4'].fillna(2, inplace=True)"
   ]
  },
  {
   "cell_type": "markdown",
   "metadata": {},
   "source": [
    "# --------------------------------------"
   ]
  },
  {
   "cell_type": "markdown",
   "metadata": {},
   "source": [
    "# --------------------------------------"
   ]
  },
  {
   "cell_type": "markdown",
   "metadata": {},
   "source": [
    "# Lets Start working on missing value imputation of Time of Service column"
   ]
  },
  {
   "cell_type": "markdown",
   "metadata": {},
   "source": [
    "# Since Age and Time of Service have high colliniarity, we will use that to predict nan values in Time of service"
   ]
  },
  {
   "cell_type": "code",
   "execution_count": 21,
   "metadata": {},
   "outputs": [],
   "source": [
    "# Creating bins of age for easier working in train_df\n",
    "\n",
    "train_df['age_bins']=train_df['age']\n",
    "train_df['age_bins']=train_df['age_bins'].apply(lambda x: 1 if x<=25.0 else x)\n",
    "train_df['age_bins']=train_df['age_bins'].apply(lambda x: 2 if (x>=25.0) & (x<=30.0) else x)\n",
    "train_df['age_bins']=train_df['age_bins'].apply(lambda x: 3 if (x>=30.0) & (x<=40.0) else x)\n",
    "train_df['age_bins']=train_df['age_bins'].apply(lambda x: 4 if (x>=40.0) & (x<=50.0) else x)\n",
    "train_df['age_bins']=train_df['age_bins'].apply(lambda x: 5 if (x>=50.0) & (x<=60.0) else x)\n",
    "train_df['age_bins']=train_df['age_bins'].apply(lambda x: 6 if (x>60.0) else x)"
   ]
  },
  {
   "cell_type": "code",
   "execution_count": 22,
   "metadata": {},
   "outputs": [],
   "source": [
    "# Creating bins of age for easier working in test_df\n",
    "\n",
    "test_df['age_bins']=test_df['age']\n",
    "test_df['age_bins']=test_df['age_bins'].apply(lambda x: 1 if x<=25.0 else x)\n",
    "test_df['age_bins']=test_df['age_bins'].apply(lambda x: 2 if (x>=25.0) & (x<=30.0) else x)\n",
    "test_df['age_bins']=test_df['age_bins'].apply(lambda x: 3 if (x>=30.0) & (x<=40.0) else x)\n",
    "test_df['age_bins']=test_df['age_bins'].apply(lambda x: 4 if (x>=40.0) & (x<=50.0) else x)\n",
    "test_df['age_bins']=test_df['age_bins'].apply(lambda x: 5 if (x>=50.0) & (x<=60.0) else x)\n",
    "test_df['age_bins']=test_df['age_bins'].apply(lambda x: 6 if (x>60.0) else x)"
   ]
  },
  {
   "cell_type": "markdown",
   "metadata": {},
   "source": [
    "### From above we see that mean for both test and train data is similar according to age bins and time of service\n",
    "\n",
    "1. ==3\n",
    "2. ==5\n",
    "3. ==9\n",
    "4. ==15\n",
    "5. ==25\n",
    "6. ==33"
   ]
  },
  {
   "cell_type": "code",
   "execution_count": 23,
   "metadata": {},
   "outputs": [],
   "source": [
    "# We checked for mode and median as well and still best fit seems to be mean\n",
    "# so lets replace nan values in each age_bin with their mean values for time_of_service"
   ]
  },
  {
   "cell_type": "code",
   "execution_count": 24,
   "metadata": {},
   "outputs": [],
   "source": [
    "# Filling selective nan values of train_df with means we found before\n",
    "\n",
    "mask1 = (train_df['time_of_service'].isnull()) & (train_df['age_bins']==1)\n",
    "train_df.loc[mask1, 'time_of_service'] = train_df.loc[mask1, 'time_of_service'].fillna(3)\n",
    "\n",
    "mask2 = (train_df['time_of_service'].isnull()) & (train_df['age_bins']==2)\n",
    "train_df.loc[mask2, 'time_of_service'] = train_df.loc[mask2, 'time_of_service'].fillna(5)\n",
    "\n",
    "mask3 = (train_df['time_of_service'].isnull()) & (train_df['age_bins']==3)\n",
    "train_df.loc[mask3, 'time_of_service'] = train_df.loc[mask3, 'time_of_service'].fillna(9)\n",
    "\n",
    "mask4 = (train_df['time_of_service'].isnull()) & (train_df['age_bins']==4)\n",
    "train_df.loc[mask4, 'time_of_service'] = train_df.loc[mask4, 'time_of_service'].fillna(15)\n",
    "\n",
    "mask5 = (train_df['time_of_service'].isnull()) & (train_df['age_bins']==5)\n",
    "train_df.loc[mask5, 'time_of_service'] = train_df.loc[mask5, 'time_of_service'].fillna(25)\n",
    "\n",
    "mask6 = (train_df['time_of_service'].isnull()) & (train_df['age_bins']==6)\n",
    "train_df.loc[mask6, 'time_of_service'] = train_df.loc[mask6, 'time_of_service'].fillna(33)"
   ]
  },
  {
   "cell_type": "code",
   "execution_count": 25,
   "metadata": {},
   "outputs": [],
   "source": [
    "# Filling selective nan values of test_df with means we found before\n",
    "\n",
    "mask1 = (test_df['time_of_service'].isnull()) & (test_df['age_bins']==1)\n",
    "test_df.loc[mask1, 'time_of_service'] = test_df.loc[mask1, 'time_of_service'].fillna(3)\n",
    "\n",
    "mask2 = (test_df['time_of_service'].isnull()) & (test_df['age_bins']==2)\n",
    "test_df.loc[mask2, 'time_of_service'] = test_df.loc[mask2, 'time_of_service'].fillna(5)\n",
    "\n",
    "mask3 = (test_df['time_of_service'].isnull()) & (test_df['age_bins']==3)\n",
    "test_df.loc[mask3, 'time_of_service'] = test_df.loc[mask3, 'time_of_service'].fillna(9)\n",
    "\n",
    "mask4 = (test_df['time_of_service'].isnull()) & (test_df['age_bins']==4)\n",
    "test_df.loc[mask4, 'time_of_service'] = test_df.loc[mask4, 'time_of_service'].fillna(15)\n",
    "\n",
    "mask5 = (test_df['time_of_service'].isnull()) & (test_df['age_bins']==5)\n",
    "test_df.loc[mask5, 'time_of_service'] = test_df.loc[mask5, 'time_of_service'].fillna(25)\n",
    "\n",
    "mask6 = (test_df['time_of_service'].isnull()) & (test_df['age_bins']==6)\n",
    "test_df.loc[mask6, 'time_of_service'] = test_df.loc[mask6, 'time_of_service'].fillna(33)"
   ]
  },
  {
   "cell_type": "markdown",
   "metadata": {},
   "source": [
    "### There are some more missing values in time of service column, this is because age is also missing for those rows..... so lets find best values that fit them with permutation combination"
   ]
  },
  {
   "cell_type": "markdown",
   "metadata": {},
   "source": [
    "### Lets fillna of remaining time of service with '5'"
   ]
  },
  {
   "cell_type": "code",
   "execution_count": 26,
   "metadata": {},
   "outputs": [],
   "source": [
    "train_df['time_of_service'].fillna(5, inplace=True)\n",
    "test_df['time_of_service'].fillna(5, inplace=True)"
   ]
  },
  {
   "cell_type": "markdown",
   "metadata": {},
   "source": [
    "# ------------------------------------------"
   ]
  },
  {
   "cell_type": "markdown",
   "metadata": {},
   "source": [
    "# -----------------------------------------"
   ]
  },
  {
   "cell_type": "markdown",
   "metadata": {},
   "source": [
    "# Lets start working on missing value imputation of Age column"
   ]
  },
  {
   "cell_type": "code",
   "execution_count": 27,
   "metadata": {},
   "outputs": [],
   "source": [
    "# Creating bins of time of service for easier working in train_df\n",
    "\n",
    "train_df['tos_bins']=train_df['time_of_service']\n",
    "train_df['tos_bins']=train_df['tos_bins'].apply(lambda x: 1 if x<=5.0 else x)\n",
    "train_df['tos_bins']=train_df['tos_bins'].apply(lambda x: 2 if (x>5.0) & (x<=10.0) else x)\n",
    "train_df['tos_bins']=train_df['tos_bins'].apply(lambda x: 3 if (x>10.0) & (x<=20.0) else x)\n",
    "train_df['tos_bins']=train_df['tos_bins'].apply(lambda x: 4 if (x>20.0) & (x<=30.0) else x)\n",
    "train_df['tos_bins']=train_df['tos_bins'].apply(lambda x: 5 if (x>30.0) & (x<=40.0) else x)\n",
    "train_df['tos_bins']=train_df['tos_bins'].apply(lambda x: 6 if (x>40.0) else x)"
   ]
  },
  {
   "cell_type": "code",
   "execution_count": 28,
   "metadata": {},
   "outputs": [],
   "source": [
    "# Creating bins of time of service for easier working in test_df\n",
    "\n",
    "test_df['tos_bins']=test_df['time_of_service']\n",
    "test_df['tos_bins']=test_df['tos_bins'].apply(lambda x: 1 if x<=5.0 else x)\n",
    "test_df['tos_bins']=test_df['tos_bins'].apply(lambda x: 2 if (x>5.0) & (x<=10.0) else x)\n",
    "test_df['tos_bins']=test_df['tos_bins'].apply(lambda x: 3 if (x>10.0) & (x<=20.0) else x)\n",
    "test_df['tos_bins']=test_df['tos_bins'].apply(lambda x: 4 if (x>20.0) & (x<=30.0) else x)\n",
    "test_df['tos_bins']=test_df['tos_bins'].apply(lambda x: 5 if (x>30.0) & (x<=40.0) else x)\n",
    "test_df['tos_bins']=test_df['tos_bins'].apply(lambda x: 6 if (x>40.0) else x)"
   ]
  },
  {
   "cell_type": "markdown",
   "metadata": {},
   "source": [
    "### From above we see that mean for both test and train data is similar according to tos_bins and age\n",
    "\n",
    "1. ==24\n",
    "2. ==32\n",
    "3. ==45\n",
    "4. ==55\n",
    "5. ==60\n",
    "6. ==65"
   ]
  },
  {
   "cell_type": "code",
   "execution_count": 29,
   "metadata": {},
   "outputs": [],
   "source": [
    "# Filling selective nan values of train_df with means we found before\n",
    "\n",
    "mask1 = (train_df['age'].isnull()) & (train_df['tos_bins']==1)\n",
    "train_df.loc[mask1, 'age'] = train_df.loc[mask1, 'age'].fillna(24)\n",
    "\n",
    "mask2 = (train_df['age'].isnull()) & (train_df['tos_bins']==2)\n",
    "train_df.loc[mask2, 'age'] = train_df.loc[mask2, 'age'].fillna(32)\n",
    "\n",
    "mask3 = (train_df['age'].isnull()) & (train_df['tos_bins']==3)\n",
    "train_df.loc[mask3, 'age'] = train_df.loc[mask3, 'age'].fillna(45)\n",
    "\n",
    "mask4 = (train_df['age'].isnull()) & (train_df['tos_bins']==4)\n",
    "train_df.loc[mask4, 'age'] = train_df.loc[mask4, 'age'].fillna(55)\n",
    "\n",
    "mask5 = (train_df['age'].isnull()) & (train_df['tos_bins']==5)\n",
    "train_df.loc[mask5, 'age'] = train_df.loc[mask5, 'age'].fillna(60)\n",
    "\n",
    "mask6 = (train_df['age'].isnull()) & (train_df['tos_bins']==6)\n",
    "train_df.loc[mask6, 'age'] = train_df.loc[mask6, 'age'].fillna(65)"
   ]
  },
  {
   "cell_type": "code",
   "execution_count": 30,
   "metadata": {},
   "outputs": [],
   "source": [
    "# Filling selective nan values of test_df with means we found before\n",
    "\n",
    "mask1 = (test_df['age'].isnull()) & (test_df['tos_bins']==1)\n",
    "test_df.loc[mask1, 'age'] = test_df.loc[mask1, 'age'].fillna(24)\n",
    "\n",
    "mask2 = (test_df['age'].isnull()) & (test_df['tos_bins']==2)\n",
    "test_df.loc[mask2, 'age'] = test_df.loc[mask2, 'age'].fillna(32)\n",
    "\n",
    "mask3 = (test_df['age'].isnull()) & (test_df['tos_bins']==3)\n",
    "test_df.loc[mask3, 'age'] = test_df.loc[mask3, 'age'].fillna(45)\n",
    "\n",
    "mask4 = (test_df['age'].isnull()) & (test_df['tos_bins']==4)\n",
    "test_df.loc[mask4, 'age'] = test_df.loc[mask4, 'age'].fillna(55)\n",
    "\n",
    "mask5 = (test_df['age'].isnull()) & (test_df['tos_bins']==5)\n",
    "test_df.loc[mask5, 'age'] = test_df.loc[mask5, 'age'].fillna(60)\n",
    "\n",
    "mask6 = (test_df['age'].isnull()) & (test_df['tos_bins']==6)\n",
    "test_df.loc[mask6, 'age'] = test_df.loc[mask6, 'age'].fillna(65)"
   ]
  },
  {
   "cell_type": "markdown",
   "metadata": {},
   "source": [
    "# -------------------------------------------"
   ]
  },
  {
   "cell_type": "markdown",
   "metadata": {},
   "source": [
    "# -------------------------------------------------"
   ]
  },
  {
   "cell_type": "markdown",
   "metadata": {},
   "source": [
    "# Missing value Imputation is Complete"
   ]
  },
  {
   "cell_type": "code",
   "execution_count": 31,
   "metadata": {},
   "outputs": [],
   "source": [
    "# Droping the age_bins and tos_bins columns... as they are created for specific reason\n",
    "# Droping them will reduce multicolliniarity\n",
    "\n",
    "train_df.drop(['age_bins','tos_bins'], axis=1,inplace=True)\n",
    "test_df.drop(['age_bins','tos_bins'], axis=1, inplace=True)"
   ]
  },
  {
   "cell_type": "code",
   "execution_count": 32,
   "metadata": {},
   "outputs": [
    {
     "data": {
      "text/html": [
       "<div>\n",
       "<style scoped>\n",
       "    .dataframe tbody tr th:only-of-type {\n",
       "        vertical-align: middle;\n",
       "    }\n",
       "\n",
       "    .dataframe tbody tr th {\n",
       "        vertical-align: top;\n",
       "    }\n",
       "\n",
       "    .dataframe thead th {\n",
       "        text-align: right;\n",
       "    }\n",
       "</style>\n",
       "<table border=\"1\" class=\"dataframe\">\n",
       "  <thead>\n",
       "    <tr style=\"text-align: right;\">\n",
       "      <th></th>\n",
       "      <th>employee_id</th>\n",
       "      <th>gender</th>\n",
       "      <th>age</th>\n",
       "      <th>education_level</th>\n",
       "      <th>hometown</th>\n",
       "      <th>unit</th>\n",
       "      <th>decision_skill_possess</th>\n",
       "      <th>time_of_service</th>\n",
       "      <th>time_since_promotion</th>\n",
       "      <th>growth_rate</th>\n",
       "      <th>travel_rate</th>\n",
       "      <th>post_level</th>\n",
       "      <th>pay_scale</th>\n",
       "      <th>compensation_and_benefits</th>\n",
       "      <th>work_life_balance</th>\n",
       "      <th>var1</th>\n",
       "      <th>var2</th>\n",
       "      <th>var3</th>\n",
       "      <th>var4</th>\n",
       "      <th>var5</th>\n",
       "      <th>var6</th>\n",
       "      <th>var7</th>\n",
       "      <th>attrition_rate</th>\n",
       "      <th>married</th>\n",
       "    </tr>\n",
       "  </thead>\n",
       "  <tbody>\n",
       "    <tr>\n",
       "      <th>0</th>\n",
       "      <td>EID_23371</td>\n",
       "      <td>0</td>\n",
       "      <td>42.0</td>\n",
       "      <td>4</td>\n",
       "      <td>Franklin</td>\n",
       "      <td>IT</td>\n",
       "      <td>Conceptual</td>\n",
       "      <td>4.0</td>\n",
       "      <td>4</td>\n",
       "      <td>33</td>\n",
       "      <td>1</td>\n",
       "      <td>1</td>\n",
       "      <td>7.0</td>\n",
       "      <td>2</td>\n",
       "      <td>3.0</td>\n",
       "      <td>4</td>\n",
       "      <td>0.7516</td>\n",
       "      <td>1.8688</td>\n",
       "      <td>2.0</td>\n",
       "      <td>4</td>\n",
       "      <td>5</td>\n",
       "      <td>3</td>\n",
       "      <td>0.1841</td>\n",
       "      <td>1</td>\n",
       "    </tr>\n",
       "    <tr>\n",
       "      <th>1</th>\n",
       "      <td>EID_18000</td>\n",
       "      <td>1</td>\n",
       "      <td>24.0</td>\n",
       "      <td>3</td>\n",
       "      <td>Springfield</td>\n",
       "      <td>Logistics</td>\n",
       "      <td>Analytical</td>\n",
       "      <td>5.0</td>\n",
       "      <td>4</td>\n",
       "      <td>36</td>\n",
       "      <td>0</td>\n",
       "      <td>3</td>\n",
       "      <td>6.0</td>\n",
       "      <td>2</td>\n",
       "      <td>4.0</td>\n",
       "      <td>3</td>\n",
       "      <td>-0.9612</td>\n",
       "      <td>-0.4537</td>\n",
       "      <td>2.0</td>\n",
       "      <td>3</td>\n",
       "      <td>5</td>\n",
       "      <td>3</td>\n",
       "      <td>0.0670</td>\n",
       "      <td>0</td>\n",
       "    </tr>\n",
       "    <tr>\n",
       "      <th>2</th>\n",
       "      <td>EID_3891</td>\n",
       "      <td>0</td>\n",
       "      <td>58.0</td>\n",
       "      <td>3</td>\n",
       "      <td>Clinton</td>\n",
       "      <td>Quality</td>\n",
       "      <td>Conceptual</td>\n",
       "      <td>27.0</td>\n",
       "      <td>3</td>\n",
       "      <td>51</td>\n",
       "      <td>0</td>\n",
       "      <td>2</td>\n",
       "      <td>8.0</td>\n",
       "      <td>2</td>\n",
       "      <td>1.0</td>\n",
       "      <td>4</td>\n",
       "      <td>-0.9612</td>\n",
       "      <td>-0.4537</td>\n",
       "      <td>3.0</td>\n",
       "      <td>3</td>\n",
       "      <td>8</td>\n",
       "      <td>3</td>\n",
       "      <td>0.0851</td>\n",
       "      <td>1</td>\n",
       "    </tr>\n",
       "    <tr>\n",
       "      <th>3</th>\n",
       "      <td>EID_17492</td>\n",
       "      <td>0</td>\n",
       "      <td>26.0</td>\n",
       "      <td>3</td>\n",
       "      <td>Lebanon</td>\n",
       "      <td>Human Resource Management</td>\n",
       "      <td>Behavioral</td>\n",
       "      <td>4.0</td>\n",
       "      <td>3</td>\n",
       "      <td>56</td>\n",
       "      <td>1</td>\n",
       "      <td>3</td>\n",
       "      <td>8.0</td>\n",
       "      <td>2</td>\n",
       "      <td>1.0</td>\n",
       "      <td>3</td>\n",
       "      <td>-1.8176</td>\n",
       "      <td>-0.4537</td>\n",
       "      <td>2.0</td>\n",
       "      <td>3</td>\n",
       "      <td>7</td>\n",
       "      <td>3</td>\n",
       "      <td>0.0668</td>\n",
       "      <td>0</td>\n",
       "    </tr>\n",
       "    <tr>\n",
       "      <th>4</th>\n",
       "      <td>EID_22534</td>\n",
       "      <td>0</td>\n",
       "      <td>31.0</td>\n",
       "      <td>1</td>\n",
       "      <td>Springfield</td>\n",
       "      <td>Logistics</td>\n",
       "      <td>Conceptual</td>\n",
       "      <td>5.0</td>\n",
       "      <td>4</td>\n",
       "      <td>62</td>\n",
       "      <td>1</td>\n",
       "      <td>3</td>\n",
       "      <td>2.0</td>\n",
       "      <td>3</td>\n",
       "      <td>3.0</td>\n",
       "      <td>1</td>\n",
       "      <td>0.7516</td>\n",
       "      <td>-0.4537</td>\n",
       "      <td>2.0</td>\n",
       "      <td>2</td>\n",
       "      <td>8</td>\n",
       "      <td>2</td>\n",
       "      <td>0.1827</td>\n",
       "      <td>1</td>\n",
       "    </tr>\n",
       "    <tr>\n",
       "      <th>...</th>\n",
       "      <td>...</td>\n",
       "      <td>...</td>\n",
       "      <td>...</td>\n",
       "      <td>...</td>\n",
       "      <td>...</td>\n",
       "      <td>...</td>\n",
       "      <td>...</td>\n",
       "      <td>...</td>\n",
       "      <td>...</td>\n",
       "      <td>...</td>\n",
       "      <td>...</td>\n",
       "      <td>...</td>\n",
       "      <td>...</td>\n",
       "      <td>...</td>\n",
       "      <td>...</td>\n",
       "      <td>...</td>\n",
       "      <td>...</td>\n",
       "      <td>...</td>\n",
       "      <td>...</td>\n",
       "      <td>...</td>\n",
       "      <td>...</td>\n",
       "      <td>...</td>\n",
       "      <td>...</td>\n",
       "      <td>...</td>\n",
       "    </tr>\n",
       "    <tr>\n",
       "      <th>6995</th>\n",
       "      <td>EID_16328</td>\n",
       "      <td>0</td>\n",
       "      <td>23.0</td>\n",
       "      <td>5</td>\n",
       "      <td>Franklin</td>\n",
       "      <td>Operarions</td>\n",
       "      <td>Behavioral</td>\n",
       "      <td>4.0</td>\n",
       "      <td>1</td>\n",
       "      <td>20</td>\n",
       "      <td>1</td>\n",
       "      <td>2</td>\n",
       "      <td>6.0</td>\n",
       "      <td>3</td>\n",
       "      <td>3.0</td>\n",
       "      <td>1</td>\n",
       "      <td>0.7516</td>\n",
       "      <td>-0.4537</td>\n",
       "      <td>2.0</td>\n",
       "      <td>3</td>\n",
       "      <td>7</td>\n",
       "      <td>3</td>\n",
       "      <td>0.7839</td>\n",
       "      <td>1</td>\n",
       "    </tr>\n",
       "    <tr>\n",
       "      <th>6996</th>\n",
       "      <td>EID_8387</td>\n",
       "      <td>0</td>\n",
       "      <td>44.0</td>\n",
       "      <td>1</td>\n",
       "      <td>Lebanon</td>\n",
       "      <td>R&amp;D</td>\n",
       "      <td>Analytical</td>\n",
       "      <td>16.0</td>\n",
       "      <td>2</td>\n",
       "      <td>59</td>\n",
       "      <td>0</td>\n",
       "      <td>2</td>\n",
       "      <td>4.0</td>\n",
       "      <td>3</td>\n",
       "      <td>3.0</td>\n",
       "      <td>2</td>\n",
       "      <td>-0.1048</td>\n",
       "      <td>-2.7762</td>\n",
       "      <td>2.0</td>\n",
       "      <td>4</td>\n",
       "      <td>8</td>\n",
       "      <td>4</td>\n",
       "      <td>0.1055</td>\n",
       "      <td>1</td>\n",
       "    </tr>\n",
       "    <tr>\n",
       "      <th>6997</th>\n",
       "      <td>EID_8077</td>\n",
       "      <td>0</td>\n",
       "      <td>49.0</td>\n",
       "      <td>3</td>\n",
       "      <td>Springfield</td>\n",
       "      <td>IT</td>\n",
       "      <td>Directive</td>\n",
       "      <td>10.0</td>\n",
       "      <td>1</td>\n",
       "      <td>59</td>\n",
       "      <td>1</td>\n",
       "      <td>2</td>\n",
       "      <td>3.0</td>\n",
       "      <td>2</td>\n",
       "      <td>4.0</td>\n",
       "      <td>2</td>\n",
       "      <td>-0.1048</td>\n",
       "      <td>-0.4537</td>\n",
       "      <td>2.0</td>\n",
       "      <td>4</td>\n",
       "      <td>8</td>\n",
       "      <td>3</td>\n",
       "      <td>0.7847</td>\n",
       "      <td>0</td>\n",
       "    </tr>\n",
       "    <tr>\n",
       "      <th>6998</th>\n",
       "      <td>EID_19597</td>\n",
       "      <td>0</td>\n",
       "      <td>47.0</td>\n",
       "      <td>3</td>\n",
       "      <td>Washington</td>\n",
       "      <td>Sales</td>\n",
       "      <td>Behavioral</td>\n",
       "      <td>24.0</td>\n",
       "      <td>1</td>\n",
       "      <td>21</td>\n",
       "      <td>1</td>\n",
       "      <td>5</td>\n",
       "      <td>8.0</td>\n",
       "      <td>0</td>\n",
       "      <td>2.0</td>\n",
       "      <td>4</td>\n",
       "      <td>0.7516</td>\n",
       "      <td>1.8688</td>\n",
       "      <td>2.0</td>\n",
       "      <td>3</td>\n",
       "      <td>6</td>\n",
       "      <td>3</td>\n",
       "      <td>0.4162</td>\n",
       "      <td>1</td>\n",
       "    </tr>\n",
       "    <tr>\n",
       "      <th>6999</th>\n",
       "      <td>EID_1640</td>\n",
       "      <td>0</td>\n",
       "      <td>58.0</td>\n",
       "      <td>3</td>\n",
       "      <td>Franklin</td>\n",
       "      <td>IT</td>\n",
       "      <td>Directive</td>\n",
       "      <td>22.0</td>\n",
       "      <td>2</td>\n",
       "      <td>74</td>\n",
       "      <td>0</td>\n",
       "      <td>4</td>\n",
       "      <td>5.0</td>\n",
       "      <td>2</td>\n",
       "      <td>3.0</td>\n",
       "      <td>3</td>\n",
       "      <td>-0.1048</td>\n",
       "      <td>-1.6150</td>\n",
       "      <td>3.0</td>\n",
       "      <td>4</td>\n",
       "      <td>5</td>\n",
       "      <td>3</td>\n",
       "      <td>0.0910</td>\n",
       "      <td>1</td>\n",
       "    </tr>\n",
       "  </tbody>\n",
       "</table>\n",
       "<p>7000 rows × 24 columns</p>\n",
       "</div>"
      ],
      "text/plain": [
       "     employee_id  gender   age  education_level     hometown  \\\n",
       "0      EID_23371       0  42.0                4     Franklin   \n",
       "1      EID_18000       1  24.0                3  Springfield   \n",
       "2       EID_3891       0  58.0                3      Clinton   \n",
       "3      EID_17492       0  26.0                3      Lebanon   \n",
       "4      EID_22534       0  31.0                1  Springfield   \n",
       "...          ...     ...   ...              ...          ...   \n",
       "6995   EID_16328       0  23.0                5     Franklin   \n",
       "6996    EID_8387       0  44.0                1      Lebanon   \n",
       "6997    EID_8077       0  49.0                3  Springfield   \n",
       "6998   EID_19597       0  47.0                3   Washington   \n",
       "6999    EID_1640       0  58.0                3     Franklin   \n",
       "\n",
       "                           unit decision_skill_possess  time_of_service  \\\n",
       "0                            IT             Conceptual              4.0   \n",
       "1                     Logistics             Analytical              5.0   \n",
       "2                       Quality             Conceptual             27.0   \n",
       "3     Human Resource Management             Behavioral              4.0   \n",
       "4                     Logistics             Conceptual              5.0   \n",
       "...                         ...                    ...              ...   \n",
       "6995                 Operarions             Behavioral              4.0   \n",
       "6996                        R&D             Analytical             16.0   \n",
       "6997                         IT              Directive             10.0   \n",
       "6998                      Sales             Behavioral             24.0   \n",
       "6999                         IT              Directive             22.0   \n",
       "\n",
       "      time_since_promotion  growth_rate  travel_rate  post_level  pay_scale  \\\n",
       "0                        4           33            1           1        7.0   \n",
       "1                        4           36            0           3        6.0   \n",
       "2                        3           51            0           2        8.0   \n",
       "3                        3           56            1           3        8.0   \n",
       "4                        4           62            1           3        2.0   \n",
       "...                    ...          ...          ...         ...        ...   \n",
       "6995                     1           20            1           2        6.0   \n",
       "6996                     2           59            0           2        4.0   \n",
       "6997                     1           59            1           2        3.0   \n",
       "6998                     1           21            1           5        8.0   \n",
       "6999                     2           74            0           4        5.0   \n",
       "\n",
       "      compensation_and_benefits  work_life_balance  var1    var2    var3  \\\n",
       "0                             2                3.0     4  0.7516  1.8688   \n",
       "1                             2                4.0     3 -0.9612 -0.4537   \n",
       "2                             2                1.0     4 -0.9612 -0.4537   \n",
       "3                             2                1.0     3 -1.8176 -0.4537   \n",
       "4                             3                3.0     1  0.7516 -0.4537   \n",
       "...                         ...                ...   ...     ...     ...   \n",
       "6995                          3                3.0     1  0.7516 -0.4537   \n",
       "6996                          3                3.0     2 -0.1048 -2.7762   \n",
       "6997                          2                4.0     2 -0.1048 -0.4537   \n",
       "6998                          0                2.0     4  0.7516  1.8688   \n",
       "6999                          2                3.0     3 -0.1048 -1.6150   \n",
       "\n",
       "      var4  var5  var6  var7  attrition_rate  married  \n",
       "0      2.0     4     5     3          0.1841        1  \n",
       "1      2.0     3     5     3          0.0670        0  \n",
       "2      3.0     3     8     3          0.0851        1  \n",
       "3      2.0     3     7     3          0.0668        0  \n",
       "4      2.0     2     8     2          0.1827        1  \n",
       "...    ...   ...   ...   ...             ...      ...  \n",
       "6995   2.0     3     7     3          0.7839        1  \n",
       "6996   2.0     4     8     4          0.1055        1  \n",
       "6997   2.0     4     8     3          0.7847        0  \n",
       "6998   2.0     3     6     3          0.4162        1  \n",
       "6999   3.0     4     5     3          0.0910        1  \n",
       "\n",
       "[7000 rows x 24 columns]"
      ]
     },
     "execution_count": 32,
     "metadata": {},
     "output_type": "execute_result"
    }
   ],
   "source": [
    "train_df"
   ]
  },
  {
   "cell_type": "code",
   "execution_count": 33,
   "metadata": {},
   "outputs": [],
   "source": [
    "train_df['hometown']=train_df['hometown'].astype('category')\n",
    "train_df['unit']=train_df['unit'].astype('category')\n",
    "train_df['decision_skill_possess']=train_df['decision_skill_possess'].astype('category')"
   ]
  },
  {
   "cell_type": "code",
   "execution_count": 34,
   "metadata": {},
   "outputs": [],
   "source": [
    "# Droping employee_id from train_df & test_df because it will cause problems when we use get_dummies\n",
    "\n",
    "train_df.drop(['employee_id'], axis=1,inplace=True)\n",
    "test_df.drop(['employee_id'], axis=1, inplace=True)"
   ]
  },
  {
   "cell_type": "code",
   "execution_count": 35,
   "metadata": {},
   "outputs": [
    {
     "name": "stdout",
     "output_type": "stream",
     "text": [
      "<class 'pandas.core.frame.DataFrame'>\n",
      "RangeIndex: 7000 entries, 0 to 6999\n",
      "Data columns (total 23 columns):\n",
      "gender                       7000 non-null int64\n",
      "age                          7000 non-null float64\n",
      "education_level              7000 non-null int64\n",
      "hometown                     7000 non-null category\n",
      "unit                         7000 non-null category\n",
      "decision_skill_possess       7000 non-null category\n",
      "time_of_service              7000 non-null float64\n",
      "time_since_promotion         7000 non-null int64\n",
      "growth_rate                  7000 non-null int64\n",
      "travel_rate                  7000 non-null int64\n",
      "post_level                   7000 non-null int64\n",
      "pay_scale                    7000 non-null float64\n",
      "compensation_and_benefits    7000 non-null int64\n",
      "work_life_balance            7000 non-null float64\n",
      "var1                         7000 non-null int64\n",
      "var2                         7000 non-null float64\n",
      "var3                         7000 non-null float64\n",
      "var4                         7000 non-null float64\n",
      "var5                         7000 non-null int64\n",
      "var6                         7000 non-null int64\n",
      "var7                         7000 non-null int64\n",
      "attrition_rate               7000 non-null float64\n",
      "married                      7000 non-null int64\n",
      "dtypes: category(3), float64(8), int64(12)\n",
      "memory usage: 1.1 MB\n"
     ]
    }
   ],
   "source": [
    "train_df.info()"
   ]
  },
  {
   "cell_type": "code",
   "execution_count": 36,
   "metadata": {},
   "outputs": [],
   "source": [
    "train_df=pd.get_dummies(train_df,drop_first=True)"
   ]
  },
  {
   "cell_type": "code",
   "execution_count": 37,
   "metadata": {},
   "outputs": [],
   "source": [
    "test_df=pd.get_dummies(test_df,drop_first=True)"
   ]
  },
  {
   "cell_type": "code",
   "execution_count": 38,
   "metadata": {},
   "outputs": [
    {
     "data": {
      "text/html": [
       "<div>\n",
       "<style scoped>\n",
       "    .dataframe tbody tr th:only-of-type {\n",
       "        vertical-align: middle;\n",
       "    }\n",
       "\n",
       "    .dataframe tbody tr th {\n",
       "        vertical-align: top;\n",
       "    }\n",
       "\n",
       "    .dataframe thead th {\n",
       "        text-align: right;\n",
       "    }\n",
       "</style>\n",
       "<table border=\"1\" class=\"dataframe\">\n",
       "  <thead>\n",
       "    <tr style=\"text-align: right;\">\n",
       "      <th></th>\n",
       "      <th>gender</th>\n",
       "      <th>age</th>\n",
       "      <th>education_level</th>\n",
       "      <th>time_of_service</th>\n",
       "      <th>time_since_promotion</th>\n",
       "      <th>growth_rate</th>\n",
       "      <th>travel_rate</th>\n",
       "      <th>post_level</th>\n",
       "      <th>pay_scale</th>\n",
       "      <th>compensation_and_benefits</th>\n",
       "      <th>work_life_balance</th>\n",
       "      <th>var1</th>\n",
       "      <th>var2</th>\n",
       "      <th>var3</th>\n",
       "      <th>var4</th>\n",
       "      <th>var5</th>\n",
       "      <th>var6</th>\n",
       "      <th>var7</th>\n",
       "      <th>attrition_rate</th>\n",
       "      <th>married</th>\n",
       "      <th>hometown_Franklin</th>\n",
       "      <th>hometown_Lebanon</th>\n",
       "      <th>hometown_Springfield</th>\n",
       "      <th>hometown_Washington</th>\n",
       "      <th>unit_Human Resource Management</th>\n",
       "      <th>unit_IT</th>\n",
       "      <th>unit_Logistics</th>\n",
       "      <th>unit_Marketing</th>\n",
       "      <th>unit_Operarions</th>\n",
       "      <th>unit_Production</th>\n",
       "      <th>unit_Purchasing</th>\n",
       "      <th>unit_Quality</th>\n",
       "      <th>unit_R&amp;D</th>\n",
       "      <th>unit_Sales</th>\n",
       "      <th>unit_Security</th>\n",
       "      <th>decision_skill_possess_Behavioral</th>\n",
       "      <th>decision_skill_possess_Conceptual</th>\n",
       "      <th>decision_skill_possess_Directive</th>\n",
       "    </tr>\n",
       "  </thead>\n",
       "  <tbody>\n",
       "    <tr>\n",
       "      <th>0</th>\n",
       "      <td>0</td>\n",
       "      <td>42.0</td>\n",
       "      <td>4</td>\n",
       "      <td>4.0</td>\n",
       "      <td>4</td>\n",
       "      <td>33</td>\n",
       "      <td>1</td>\n",
       "      <td>1</td>\n",
       "      <td>7.0</td>\n",
       "      <td>2</td>\n",
       "      <td>3.0</td>\n",
       "      <td>4</td>\n",
       "      <td>0.7516</td>\n",
       "      <td>1.8688</td>\n",
       "      <td>2.0</td>\n",
       "      <td>4</td>\n",
       "      <td>5</td>\n",
       "      <td>3</td>\n",
       "      <td>0.1841</td>\n",
       "      <td>1</td>\n",
       "      <td>1</td>\n",
       "      <td>0</td>\n",
       "      <td>0</td>\n",
       "      <td>0</td>\n",
       "      <td>0</td>\n",
       "      <td>1</td>\n",
       "      <td>0</td>\n",
       "      <td>0</td>\n",
       "      <td>0</td>\n",
       "      <td>0</td>\n",
       "      <td>0</td>\n",
       "      <td>0</td>\n",
       "      <td>0</td>\n",
       "      <td>0</td>\n",
       "      <td>0</td>\n",
       "      <td>0</td>\n",
       "      <td>1</td>\n",
       "      <td>0</td>\n",
       "    </tr>\n",
       "    <tr>\n",
       "      <th>1</th>\n",
       "      <td>1</td>\n",
       "      <td>24.0</td>\n",
       "      <td>3</td>\n",
       "      <td>5.0</td>\n",
       "      <td>4</td>\n",
       "      <td>36</td>\n",
       "      <td>0</td>\n",
       "      <td>3</td>\n",
       "      <td>6.0</td>\n",
       "      <td>2</td>\n",
       "      <td>4.0</td>\n",
       "      <td>3</td>\n",
       "      <td>-0.9612</td>\n",
       "      <td>-0.4537</td>\n",
       "      <td>2.0</td>\n",
       "      <td>3</td>\n",
       "      <td>5</td>\n",
       "      <td>3</td>\n",
       "      <td>0.0670</td>\n",
       "      <td>0</td>\n",
       "      <td>0</td>\n",
       "      <td>0</td>\n",
       "      <td>1</td>\n",
       "      <td>0</td>\n",
       "      <td>0</td>\n",
       "      <td>0</td>\n",
       "      <td>1</td>\n",
       "      <td>0</td>\n",
       "      <td>0</td>\n",
       "      <td>0</td>\n",
       "      <td>0</td>\n",
       "      <td>0</td>\n",
       "      <td>0</td>\n",
       "      <td>0</td>\n",
       "      <td>0</td>\n",
       "      <td>0</td>\n",
       "      <td>0</td>\n",
       "      <td>0</td>\n",
       "    </tr>\n",
       "    <tr>\n",
       "      <th>2</th>\n",
       "      <td>0</td>\n",
       "      <td>58.0</td>\n",
       "      <td>3</td>\n",
       "      <td>27.0</td>\n",
       "      <td>3</td>\n",
       "      <td>51</td>\n",
       "      <td>0</td>\n",
       "      <td>2</td>\n",
       "      <td>8.0</td>\n",
       "      <td>2</td>\n",
       "      <td>1.0</td>\n",
       "      <td>4</td>\n",
       "      <td>-0.9612</td>\n",
       "      <td>-0.4537</td>\n",
       "      <td>3.0</td>\n",
       "      <td>3</td>\n",
       "      <td>8</td>\n",
       "      <td>3</td>\n",
       "      <td>0.0851</td>\n",
       "      <td>1</td>\n",
       "      <td>0</td>\n",
       "      <td>0</td>\n",
       "      <td>0</td>\n",
       "      <td>0</td>\n",
       "      <td>0</td>\n",
       "      <td>0</td>\n",
       "      <td>0</td>\n",
       "      <td>0</td>\n",
       "      <td>0</td>\n",
       "      <td>0</td>\n",
       "      <td>0</td>\n",
       "      <td>1</td>\n",
       "      <td>0</td>\n",
       "      <td>0</td>\n",
       "      <td>0</td>\n",
       "      <td>0</td>\n",
       "      <td>1</td>\n",
       "      <td>0</td>\n",
       "    </tr>\n",
       "    <tr>\n",
       "      <th>3</th>\n",
       "      <td>0</td>\n",
       "      <td>26.0</td>\n",
       "      <td>3</td>\n",
       "      <td>4.0</td>\n",
       "      <td>3</td>\n",
       "      <td>56</td>\n",
       "      <td>1</td>\n",
       "      <td>3</td>\n",
       "      <td>8.0</td>\n",
       "      <td>2</td>\n",
       "      <td>1.0</td>\n",
       "      <td>3</td>\n",
       "      <td>-1.8176</td>\n",
       "      <td>-0.4537</td>\n",
       "      <td>2.0</td>\n",
       "      <td>3</td>\n",
       "      <td>7</td>\n",
       "      <td>3</td>\n",
       "      <td>0.0668</td>\n",
       "      <td>0</td>\n",
       "      <td>0</td>\n",
       "      <td>1</td>\n",
       "      <td>0</td>\n",
       "      <td>0</td>\n",
       "      <td>1</td>\n",
       "      <td>0</td>\n",
       "      <td>0</td>\n",
       "      <td>0</td>\n",
       "      <td>0</td>\n",
       "      <td>0</td>\n",
       "      <td>0</td>\n",
       "      <td>0</td>\n",
       "      <td>0</td>\n",
       "      <td>0</td>\n",
       "      <td>0</td>\n",
       "      <td>1</td>\n",
       "      <td>0</td>\n",
       "      <td>0</td>\n",
       "    </tr>\n",
       "    <tr>\n",
       "      <th>4</th>\n",
       "      <td>0</td>\n",
       "      <td>31.0</td>\n",
       "      <td>1</td>\n",
       "      <td>5.0</td>\n",
       "      <td>4</td>\n",
       "      <td>62</td>\n",
       "      <td>1</td>\n",
       "      <td>3</td>\n",
       "      <td>2.0</td>\n",
       "      <td>3</td>\n",
       "      <td>3.0</td>\n",
       "      <td>1</td>\n",
       "      <td>0.7516</td>\n",
       "      <td>-0.4537</td>\n",
       "      <td>2.0</td>\n",
       "      <td>2</td>\n",
       "      <td>8</td>\n",
       "      <td>2</td>\n",
       "      <td>0.1827</td>\n",
       "      <td>1</td>\n",
       "      <td>0</td>\n",
       "      <td>0</td>\n",
       "      <td>1</td>\n",
       "      <td>0</td>\n",
       "      <td>0</td>\n",
       "      <td>0</td>\n",
       "      <td>1</td>\n",
       "      <td>0</td>\n",
       "      <td>0</td>\n",
       "      <td>0</td>\n",
       "      <td>0</td>\n",
       "      <td>0</td>\n",
       "      <td>0</td>\n",
       "      <td>0</td>\n",
       "      <td>0</td>\n",
       "      <td>0</td>\n",
       "      <td>1</td>\n",
       "      <td>0</td>\n",
       "    </tr>\n",
       "    <tr>\n",
       "      <th>...</th>\n",
       "      <td>...</td>\n",
       "      <td>...</td>\n",
       "      <td>...</td>\n",
       "      <td>...</td>\n",
       "      <td>...</td>\n",
       "      <td>...</td>\n",
       "      <td>...</td>\n",
       "      <td>...</td>\n",
       "      <td>...</td>\n",
       "      <td>...</td>\n",
       "      <td>...</td>\n",
       "      <td>...</td>\n",
       "      <td>...</td>\n",
       "      <td>...</td>\n",
       "      <td>...</td>\n",
       "      <td>...</td>\n",
       "      <td>...</td>\n",
       "      <td>...</td>\n",
       "      <td>...</td>\n",
       "      <td>...</td>\n",
       "      <td>...</td>\n",
       "      <td>...</td>\n",
       "      <td>...</td>\n",
       "      <td>...</td>\n",
       "      <td>...</td>\n",
       "      <td>...</td>\n",
       "      <td>...</td>\n",
       "      <td>...</td>\n",
       "      <td>...</td>\n",
       "      <td>...</td>\n",
       "      <td>...</td>\n",
       "      <td>...</td>\n",
       "      <td>...</td>\n",
       "      <td>...</td>\n",
       "      <td>...</td>\n",
       "      <td>...</td>\n",
       "      <td>...</td>\n",
       "      <td>...</td>\n",
       "    </tr>\n",
       "    <tr>\n",
       "      <th>6995</th>\n",
       "      <td>0</td>\n",
       "      <td>23.0</td>\n",
       "      <td>5</td>\n",
       "      <td>4.0</td>\n",
       "      <td>1</td>\n",
       "      <td>20</td>\n",
       "      <td>1</td>\n",
       "      <td>2</td>\n",
       "      <td>6.0</td>\n",
       "      <td>3</td>\n",
       "      <td>3.0</td>\n",
       "      <td>1</td>\n",
       "      <td>0.7516</td>\n",
       "      <td>-0.4537</td>\n",
       "      <td>2.0</td>\n",
       "      <td>3</td>\n",
       "      <td>7</td>\n",
       "      <td>3</td>\n",
       "      <td>0.7839</td>\n",
       "      <td>1</td>\n",
       "      <td>1</td>\n",
       "      <td>0</td>\n",
       "      <td>0</td>\n",
       "      <td>0</td>\n",
       "      <td>0</td>\n",
       "      <td>0</td>\n",
       "      <td>0</td>\n",
       "      <td>0</td>\n",
       "      <td>1</td>\n",
       "      <td>0</td>\n",
       "      <td>0</td>\n",
       "      <td>0</td>\n",
       "      <td>0</td>\n",
       "      <td>0</td>\n",
       "      <td>0</td>\n",
       "      <td>1</td>\n",
       "      <td>0</td>\n",
       "      <td>0</td>\n",
       "    </tr>\n",
       "    <tr>\n",
       "      <th>6996</th>\n",
       "      <td>0</td>\n",
       "      <td>44.0</td>\n",
       "      <td>1</td>\n",
       "      <td>16.0</td>\n",
       "      <td>2</td>\n",
       "      <td>59</td>\n",
       "      <td>0</td>\n",
       "      <td>2</td>\n",
       "      <td>4.0</td>\n",
       "      <td>3</td>\n",
       "      <td>3.0</td>\n",
       "      <td>2</td>\n",
       "      <td>-0.1048</td>\n",
       "      <td>-2.7762</td>\n",
       "      <td>2.0</td>\n",
       "      <td>4</td>\n",
       "      <td>8</td>\n",
       "      <td>4</td>\n",
       "      <td>0.1055</td>\n",
       "      <td>1</td>\n",
       "      <td>0</td>\n",
       "      <td>1</td>\n",
       "      <td>0</td>\n",
       "      <td>0</td>\n",
       "      <td>0</td>\n",
       "      <td>0</td>\n",
       "      <td>0</td>\n",
       "      <td>0</td>\n",
       "      <td>0</td>\n",
       "      <td>0</td>\n",
       "      <td>0</td>\n",
       "      <td>0</td>\n",
       "      <td>1</td>\n",
       "      <td>0</td>\n",
       "      <td>0</td>\n",
       "      <td>0</td>\n",
       "      <td>0</td>\n",
       "      <td>0</td>\n",
       "    </tr>\n",
       "    <tr>\n",
       "      <th>6997</th>\n",
       "      <td>0</td>\n",
       "      <td>49.0</td>\n",
       "      <td>3</td>\n",
       "      <td>10.0</td>\n",
       "      <td>1</td>\n",
       "      <td>59</td>\n",
       "      <td>1</td>\n",
       "      <td>2</td>\n",
       "      <td>3.0</td>\n",
       "      <td>2</td>\n",
       "      <td>4.0</td>\n",
       "      <td>2</td>\n",
       "      <td>-0.1048</td>\n",
       "      <td>-0.4537</td>\n",
       "      <td>2.0</td>\n",
       "      <td>4</td>\n",
       "      <td>8</td>\n",
       "      <td>3</td>\n",
       "      <td>0.7847</td>\n",
       "      <td>0</td>\n",
       "      <td>0</td>\n",
       "      <td>0</td>\n",
       "      <td>1</td>\n",
       "      <td>0</td>\n",
       "      <td>0</td>\n",
       "      <td>1</td>\n",
       "      <td>0</td>\n",
       "      <td>0</td>\n",
       "      <td>0</td>\n",
       "      <td>0</td>\n",
       "      <td>0</td>\n",
       "      <td>0</td>\n",
       "      <td>0</td>\n",
       "      <td>0</td>\n",
       "      <td>0</td>\n",
       "      <td>0</td>\n",
       "      <td>0</td>\n",
       "      <td>1</td>\n",
       "    </tr>\n",
       "    <tr>\n",
       "      <th>6998</th>\n",
       "      <td>0</td>\n",
       "      <td>47.0</td>\n",
       "      <td>3</td>\n",
       "      <td>24.0</td>\n",
       "      <td>1</td>\n",
       "      <td>21</td>\n",
       "      <td>1</td>\n",
       "      <td>5</td>\n",
       "      <td>8.0</td>\n",
       "      <td>0</td>\n",
       "      <td>2.0</td>\n",
       "      <td>4</td>\n",
       "      <td>0.7516</td>\n",
       "      <td>1.8688</td>\n",
       "      <td>2.0</td>\n",
       "      <td>3</td>\n",
       "      <td>6</td>\n",
       "      <td>3</td>\n",
       "      <td>0.4162</td>\n",
       "      <td>1</td>\n",
       "      <td>0</td>\n",
       "      <td>0</td>\n",
       "      <td>0</td>\n",
       "      <td>1</td>\n",
       "      <td>0</td>\n",
       "      <td>0</td>\n",
       "      <td>0</td>\n",
       "      <td>0</td>\n",
       "      <td>0</td>\n",
       "      <td>0</td>\n",
       "      <td>0</td>\n",
       "      <td>0</td>\n",
       "      <td>0</td>\n",
       "      <td>1</td>\n",
       "      <td>0</td>\n",
       "      <td>1</td>\n",
       "      <td>0</td>\n",
       "      <td>0</td>\n",
       "    </tr>\n",
       "    <tr>\n",
       "      <th>6999</th>\n",
       "      <td>0</td>\n",
       "      <td>58.0</td>\n",
       "      <td>3</td>\n",
       "      <td>22.0</td>\n",
       "      <td>2</td>\n",
       "      <td>74</td>\n",
       "      <td>0</td>\n",
       "      <td>4</td>\n",
       "      <td>5.0</td>\n",
       "      <td>2</td>\n",
       "      <td>3.0</td>\n",
       "      <td>3</td>\n",
       "      <td>-0.1048</td>\n",
       "      <td>-1.6150</td>\n",
       "      <td>3.0</td>\n",
       "      <td>4</td>\n",
       "      <td>5</td>\n",
       "      <td>3</td>\n",
       "      <td>0.0910</td>\n",
       "      <td>1</td>\n",
       "      <td>1</td>\n",
       "      <td>0</td>\n",
       "      <td>0</td>\n",
       "      <td>0</td>\n",
       "      <td>0</td>\n",
       "      <td>1</td>\n",
       "      <td>0</td>\n",
       "      <td>0</td>\n",
       "      <td>0</td>\n",
       "      <td>0</td>\n",
       "      <td>0</td>\n",
       "      <td>0</td>\n",
       "      <td>0</td>\n",
       "      <td>0</td>\n",
       "      <td>0</td>\n",
       "      <td>0</td>\n",
       "      <td>0</td>\n",
       "      <td>1</td>\n",
       "    </tr>\n",
       "  </tbody>\n",
       "</table>\n",
       "<p>7000 rows × 38 columns</p>\n",
       "</div>"
      ],
      "text/plain": [
       "      gender   age  education_level  time_of_service  time_since_promotion  \\\n",
       "0          0  42.0                4              4.0                     4   \n",
       "1          1  24.0                3              5.0                     4   \n",
       "2          0  58.0                3             27.0                     3   \n",
       "3          0  26.0                3              4.0                     3   \n",
       "4          0  31.0                1              5.0                     4   \n",
       "...      ...   ...              ...              ...                   ...   \n",
       "6995       0  23.0                5              4.0                     1   \n",
       "6996       0  44.0                1             16.0                     2   \n",
       "6997       0  49.0                3             10.0                     1   \n",
       "6998       0  47.0                3             24.0                     1   \n",
       "6999       0  58.0                3             22.0                     2   \n",
       "\n",
       "      growth_rate  travel_rate  post_level  pay_scale  \\\n",
       "0              33            1           1        7.0   \n",
       "1              36            0           3        6.0   \n",
       "2              51            0           2        8.0   \n",
       "3              56            1           3        8.0   \n",
       "4              62            1           3        2.0   \n",
       "...           ...          ...         ...        ...   \n",
       "6995           20            1           2        6.0   \n",
       "6996           59            0           2        4.0   \n",
       "6997           59            1           2        3.0   \n",
       "6998           21            1           5        8.0   \n",
       "6999           74            0           4        5.0   \n",
       "\n",
       "      compensation_and_benefits  work_life_balance  var1    var2    var3  \\\n",
       "0                             2                3.0     4  0.7516  1.8688   \n",
       "1                             2                4.0     3 -0.9612 -0.4537   \n",
       "2                             2                1.0     4 -0.9612 -0.4537   \n",
       "3                             2                1.0     3 -1.8176 -0.4537   \n",
       "4                             3                3.0     1  0.7516 -0.4537   \n",
       "...                         ...                ...   ...     ...     ...   \n",
       "6995                          3                3.0     1  0.7516 -0.4537   \n",
       "6996                          3                3.0     2 -0.1048 -2.7762   \n",
       "6997                          2                4.0     2 -0.1048 -0.4537   \n",
       "6998                          0                2.0     4  0.7516  1.8688   \n",
       "6999                          2                3.0     3 -0.1048 -1.6150   \n",
       "\n",
       "      var4  var5  var6  var7  attrition_rate  married  hometown_Franklin  \\\n",
       "0      2.0     4     5     3          0.1841        1                  1   \n",
       "1      2.0     3     5     3          0.0670        0                  0   \n",
       "2      3.0     3     8     3          0.0851        1                  0   \n",
       "3      2.0     3     7     3          0.0668        0                  0   \n",
       "4      2.0     2     8     2          0.1827        1                  0   \n",
       "...    ...   ...   ...   ...             ...      ...                ...   \n",
       "6995   2.0     3     7     3          0.7839        1                  1   \n",
       "6996   2.0     4     8     4          0.1055        1                  0   \n",
       "6997   2.0     4     8     3          0.7847        0                  0   \n",
       "6998   2.0     3     6     3          0.4162        1                  0   \n",
       "6999   3.0     4     5     3          0.0910        1                  1   \n",
       "\n",
       "      hometown_Lebanon  hometown_Springfield  hometown_Washington  \\\n",
       "0                    0                     0                    0   \n",
       "1                    0                     1                    0   \n",
       "2                    0                     0                    0   \n",
       "3                    1                     0                    0   \n",
       "4                    0                     1                    0   \n",
       "...                ...                   ...                  ...   \n",
       "6995                 0                     0                    0   \n",
       "6996                 1                     0                    0   \n",
       "6997                 0                     1                    0   \n",
       "6998                 0                     0                    1   \n",
       "6999                 0                     0                    0   \n",
       "\n",
       "      unit_Human Resource Management  unit_IT  unit_Logistics  unit_Marketing  \\\n",
       "0                                  0        1               0               0   \n",
       "1                                  0        0               1               0   \n",
       "2                                  0        0               0               0   \n",
       "3                                  1        0               0               0   \n",
       "4                                  0        0               1               0   \n",
       "...                              ...      ...             ...             ...   \n",
       "6995                               0        0               0               0   \n",
       "6996                               0        0               0               0   \n",
       "6997                               0        1               0               0   \n",
       "6998                               0        0               0               0   \n",
       "6999                               0        1               0               0   \n",
       "\n",
       "      unit_Operarions  unit_Production  unit_Purchasing  unit_Quality  \\\n",
       "0                   0                0                0             0   \n",
       "1                   0                0                0             0   \n",
       "2                   0                0                0             1   \n",
       "3                   0                0                0             0   \n",
       "4                   0                0                0             0   \n",
       "...               ...              ...              ...           ...   \n",
       "6995                1                0                0             0   \n",
       "6996                0                0                0             0   \n",
       "6997                0                0                0             0   \n",
       "6998                0                0                0             0   \n",
       "6999                0                0                0             0   \n",
       "\n",
       "      unit_R&D  unit_Sales  unit_Security  decision_skill_possess_Behavioral  \\\n",
       "0            0           0              0                                  0   \n",
       "1            0           0              0                                  0   \n",
       "2            0           0              0                                  0   \n",
       "3            0           0              0                                  1   \n",
       "4            0           0              0                                  0   \n",
       "...        ...         ...            ...                                ...   \n",
       "6995         0           0              0                                  1   \n",
       "6996         1           0              0                                  0   \n",
       "6997         0           0              0                                  0   \n",
       "6998         0           1              0                                  1   \n",
       "6999         0           0              0                                  0   \n",
       "\n",
       "      decision_skill_possess_Conceptual  decision_skill_possess_Directive  \n",
       "0                                     1                                 0  \n",
       "1                                     0                                 0  \n",
       "2                                     1                                 0  \n",
       "3                                     0                                 0  \n",
       "4                                     1                                 0  \n",
       "...                                 ...                               ...  \n",
       "6995                                  0                                 0  \n",
       "6996                                  0                                 0  \n",
       "6997                                  0                                 1  \n",
       "6998                                  0                                 0  \n",
       "6999                                  0                                 1  \n",
       "\n",
       "[7000 rows x 38 columns]"
      ]
     },
     "execution_count": 38,
     "metadata": {},
     "output_type": "execute_result"
    }
   ],
   "source": [
    "train_df"
   ]
  },
  {
   "cell_type": "markdown",
   "metadata": {},
   "source": [
    "# ------------------------------------"
   ]
  },
  {
   "cell_type": "markdown",
   "metadata": {},
   "source": [
    "# -----------------------------------------"
   ]
  },
  {
   "cell_type": "markdown",
   "metadata": {},
   "source": [
    "# Since DF is all numerical... let us create x_train,x_test & y_train"
   ]
  },
  {
   "cell_type": "code",
   "execution_count": 39,
   "metadata": {},
   "outputs": [],
   "source": [
    "x_train=train_df.drop('attrition_rate',axis=1).copy()\n",
    "y_train=train_df['attrition_rate'].copy()\n",
    "x_test=test_df.copy()"
   ]
  },
  {
   "cell_type": "code",
   "execution_count": 41,
   "metadata": {},
   "outputs": [],
   "source": [
    "sub_test=pd.read_csv('Test.csv')"
   ]
  },
  {
   "cell_type": "markdown",
   "metadata": {},
   "source": [
    "# Normalizing the data for better working\n",
    "### normalizing did not improve the accuracy in this case... so let us not perform the same"
   ]
  },
  {
   "cell_type": "markdown",
   "metadata": {},
   "source": [
    "from sklearn.preprocessing import normalize\n",
    "\n",
    "x_train=normalize(x_train)\n",
    "x_test=normalize(x_test)"
   ]
  },
  {
   "cell_type": "markdown",
   "metadata": {},
   "source": [
    "# Standardization of the data\n",
    "### normalizing did not improve the accuracy in this case... so let us not perform the same\n",
    "#### Use any 1 from below as per requirement"
   ]
  },
  {
   "cell_type": "markdown",
   "metadata": {},
   "source": [
    "from sklearn.preprocessing import StandardScaler\n",
    "\n",
    "scaler = StandardScaler()\n",
    "\n",
    "scaler.fit(x_train)\n",
    "x_train = scaler.transform(x_train)\n",
    "x_test = scaler.transform(x_test)"
   ]
  },
  {
   "cell_type": "code",
   "execution_count": null,
   "metadata": {},
   "outputs": [],
   "source": []
  },
  {
   "cell_type": "markdown",
   "metadata": {},
   "source": [
    "from sklearn.preprocessing import MinMaxScaler\n",
    "\n",
    "scaler = MinMaxScaler()\n",
    "\n",
    "scaler.fit(x_train)\n",
    "x_train = scaler.transform(x_train)\n",
    "x_test = scaler.transform(x_test)"
   ]
  },
  {
   "cell_type": "markdown",
   "metadata": {},
   "source": [
    "# Below are Different Linear Regression Algorithms"
   ]
  },
  {
   "cell_type": "code",
   "execution_count": 42,
   "metadata": {},
   "outputs": [],
   "source": [
    "'''Set a seed for reproducibility'''\n",
    "seed = 43\n",
    "\n",
    "'''Initialize all the regression models object we are interested in.'''\n",
    "from sklearn.linear_model import LinearRegression, Ridge, Lasso, ElasticNet\n",
    "from sklearn.kernel_ridge import KernelRidge\n",
    "from sklearn.tree import DecisionTreeRegressor\n",
    "from sklearn.svm import SVR\n",
    "from sklearn.neighbors import KNeighborsRegressor\n",
    "from sklearn.ensemble import RandomForestRegressor, ExtraTreesRegressor, AdaBoostRegressor, GradientBoostingRegressor\n",
    "from xgboost import XGBRegressor\n",
    "from lightgbm import LGBMRegressor\n",
    "\n",
    "\n",
    "'''We are interested in the following 14 regression models.\n",
    "All initialized with default parameters except random_state and n_jobs.'''\n",
    "linear = LinearRegression(n_jobs = -1)\n",
    "lasso = Lasso(random_state = seed)\n",
    "ridge = Ridge(random_state = seed)\n",
    "kr = KernelRidge()\n",
    "elnt = ElasticNet(random_state = seed)\n",
    "dt = DecisionTreeRegressor(random_state = seed)\n",
    "svm = SVR()\n",
    "knn = KNeighborsRegressor(n_jobs = -1)\n",
    "rf =  RandomForestRegressor(n_jobs = -1, random_state = seed)\n",
    "et = ExtraTreesRegressor(n_jobs = -1, random_state = seed)\n",
    "ab = AdaBoostRegressor(random_state = seed)\n",
    "gb = GradientBoostingRegressor(random_state = seed)\n",
    "xgb = XGBRegressor(random_state = seed, n_jobs = -1)\n",
    "lgb = LGBMRegressor(random_state = seed, n_jobs = -1)\n"
   ]
  },
  {
   "cell_type": "markdown",
   "metadata": {},
   "source": [
    "# Got the best results using LinearRegressor"
   ]
  },
  {
   "cell_type": "code",
   "execution_count": 43,
   "metadata": {},
   "outputs": [
    {
     "data": {
      "text/plain": [
       "array([0.21612741, 0.19472935, 0.1921012 , ..., 0.16645137, 0.15223512,\n",
       "       0.18725052])"
      ]
     },
     "execution_count": 43,
     "metadata": {},
     "output_type": "execute_result"
    }
   ],
   "source": [
    "from sklearn.linear_model import LinearRegression\n",
    "\n",
    "linear = LinearRegression(n_jobs = -1)\n",
    "linear.fit(x_train, y_train)\n",
    "y_pred = linear.predict(x_test)\n",
    "y_pred\n"
   ]
  },
  {
   "cell_type": "code",
   "execution_count": 44,
   "metadata": {},
   "outputs": [],
   "source": [
    "submissionDf=pd.DataFrame({'Employee_ID':sub_test['Employee_ID'],\n",
    "                          'Attrition_rate':y_pred})"
   ]
  },
  {
   "cell_type": "code",
   "execution_count": 45,
   "metadata": {},
   "outputs": [
    {
     "data": {
      "text/html": [
       "<div>\n",
       "<style scoped>\n",
       "    .dataframe tbody tr th:only-of-type {\n",
       "        vertical-align: middle;\n",
       "    }\n",
       "\n",
       "    .dataframe tbody tr th {\n",
       "        vertical-align: top;\n",
       "    }\n",
       "\n",
       "    .dataframe thead th {\n",
       "        text-align: right;\n",
       "    }\n",
       "</style>\n",
       "<table border=\"1\" class=\"dataframe\">\n",
       "  <thead>\n",
       "    <tr style=\"text-align: right;\">\n",
       "      <th></th>\n",
       "      <th>Employee_ID</th>\n",
       "      <th>Attrition_rate</th>\n",
       "    </tr>\n",
       "  </thead>\n",
       "  <tbody>\n",
       "    <tr>\n",
       "      <th>0</th>\n",
       "      <td>EID_22713</td>\n",
       "      <td>0.216127</td>\n",
       "    </tr>\n",
       "    <tr>\n",
       "      <th>1</th>\n",
       "      <td>EID_9658</td>\n",
       "      <td>0.194729</td>\n",
       "    </tr>\n",
       "    <tr>\n",
       "      <th>2</th>\n",
       "      <td>EID_22203</td>\n",
       "      <td>0.192101</td>\n",
       "    </tr>\n",
       "  </tbody>\n",
       "</table>\n",
       "</div>"
      ],
      "text/plain": [
       "  Employee_ID  Attrition_rate\n",
       "0   EID_22713        0.216127\n",
       "1    EID_9658        0.194729\n",
       "2   EID_22203        0.192101"
      ]
     },
     "execution_count": 45,
     "metadata": {},
     "output_type": "execute_result"
    }
   ],
   "source": [
    "submissionDf.head(3)"
   ]
  },
  {
   "cell_type": "raw",
   "metadata": {},
   "source": [
    "submissionDf.to_csv('C:/Users/Administrator/Desktop/Employee Attrition_Prediction/Submissions/Submission18_lgbReg.csv',index=False)"
   ]
  },
  {
   "cell_type": "markdown",
   "metadata": {},
   "source": [
    "# The Submission was done on Hacker Earth which is not vailable anymore\n",
    "# This Model got an accuracy of 81.261"
   ]
  },
  {
   "cell_type": "code",
   "execution_count": null,
   "metadata": {},
   "outputs": [],
   "source": []
  }
 ],
 "metadata": {
  "kernelspec": {
   "display_name": "Python 3",
   "language": "python",
   "name": "python3"
  },
  "language_info": {
   "codemirror_mode": {
    "name": "ipython",
    "version": 3
   },
   "file_extension": ".py",
   "mimetype": "text/x-python",
   "name": "python",
   "nbconvert_exporter": "python",
   "pygments_lexer": "ipython3",
   "version": "3.7.3"
  }
 },
 "nbformat": 4,
 "nbformat_minor": 2
}
